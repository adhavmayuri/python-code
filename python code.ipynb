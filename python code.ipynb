{
 "cells": [
  {
   "cell_type": "markdown",
   "id": "5ee6240e",
   "metadata": {},
   "source": [
    "sum of all number 1 to 100 which are divisible by 4\n"
   ]
  },
  {
   "cell_type": "code",
   "execution_count": 3,
   "id": "01108a4d",
   "metadata": {},
   "outputs": [
    {
     "name": "stdout",
     "output_type": "stream",
     "text": [
      "0\n",
      "0\n",
      "0\n",
      "4\n",
      "4\n",
      "4\n",
      "4\n",
      "12\n",
      "12\n",
      "12\n",
      "12\n",
      "24\n",
      "24\n",
      "24\n",
      "24\n",
      "40\n",
      "40\n",
      "40\n",
      "40\n",
      "60\n",
      "60\n",
      "60\n",
      "60\n",
      "84\n",
      "84\n",
      "84\n",
      "84\n",
      "112\n",
      "112\n",
      "112\n",
      "112\n",
      "144\n",
      "144\n",
      "144\n",
      "144\n",
      "180\n",
      "180\n",
      "180\n",
      "180\n",
      "220\n",
      "220\n",
      "220\n",
      "220\n",
      "264\n",
      "264\n",
      "264\n",
      "264\n",
      "312\n",
      "312\n",
      "312\n",
      "312\n",
      "364\n",
      "364\n",
      "364\n",
      "364\n",
      "420\n",
      "420\n",
      "420\n",
      "420\n",
      "480\n",
      "480\n",
      "480\n",
      "480\n",
      "544\n",
      "544\n",
      "544\n",
      "544\n",
      "612\n",
      "612\n",
      "612\n",
      "612\n",
      "684\n",
      "684\n",
      "684\n",
      "684\n",
      "760\n",
      "760\n",
      "760\n",
      "760\n",
      "840\n",
      "840\n",
      "840\n",
      "840\n",
      "924\n",
      "924\n",
      "924\n",
      "924\n",
      "1012\n",
      "1012\n",
      "1012\n",
      "1012\n",
      "1104\n",
      "1104\n",
      "1104\n",
      "1104\n",
      "1200\n",
      "1200\n",
      "1200\n",
      "1200\n"
     ]
    }
   ],
   "source": [
    "counter=0\n",
    "for i in range(1,100):\n",
    "    if(i%4==0):\n",
    "        counter+=i\n",
    "    print(counter)"
   ]
  },
  {
   "cell_type": "markdown",
   "id": "f61ee74c",
   "metadata": {},
   "source": [
    "For given range of (1,100) number is divisible by 2 and 3 but not by 5"
   ]
  },
  {
   "cell_type": "code",
   "execution_count": 7,
   "id": "11f677cc",
   "metadata": {},
   "outputs": [
    {
     "name": "stdout",
     "output_type": "stream",
     "text": [
      "6\n",
      "12\n",
      "18\n",
      "24\n",
      "36\n",
      "42\n",
      "48\n",
      "54\n",
      "66\n",
      "72\n",
      "78\n",
      "84\n",
      "96\n"
     ]
    }
   ],
   "source": [
    "for i in range(1,100):\n",
    "    if(i%2==0 and i%3==0 and i%5!=0):\n",
    "        print(i)"
   ]
  },
  {
   "cell_type": "markdown",
   "id": "feb8953f",
   "metadata": {},
   "source": [
    "Add all even number from 1 to 100\n"
   ]
  },
  {
   "cell_type": "code",
   "execution_count": 8,
   "id": "c75c937f",
   "metadata": {},
   "outputs": [
    {
     "name": "stdout",
     "output_type": "stream",
     "text": [
      "2\n",
      "4\n",
      "6\n",
      "8\n",
      "10\n",
      "12\n",
      "14\n",
      "16\n",
      "18\n",
      "20\n",
      "22\n",
      "24\n",
      "26\n",
      "28\n",
      "30\n",
      "32\n",
      "34\n",
      "36\n",
      "38\n",
      "40\n",
      "42\n",
      "44\n",
      "46\n",
      "48\n",
      "50\n",
      "52\n",
      "54\n",
      "56\n",
      "58\n",
      "60\n",
      "62\n",
      "64\n",
      "66\n",
      "68\n",
      "70\n",
      "72\n",
      "74\n",
      "76\n",
      "78\n",
      "80\n",
      "82\n",
      "84\n",
      "86\n",
      "88\n",
      "90\n",
      "92\n",
      "94\n",
      "96\n",
      "98\n"
     ]
    }
   ],
   "source": [
    "add=0\n",
    "for i in range (1,100):\n",
    "    if (i%2==0):\n",
    "        add=+i\n",
    "        print(add)"
   ]
  },
  {
   "cell_type": "markdown",
   "id": "21dad381",
   "metadata": {},
   "source": [
    "# in 1 to 100 print a number which is divisible by 3 not by 2"
   ]
  },
  {
   "cell_type": "code",
   "execution_count": 11,
   "id": "9febac35",
   "metadata": {},
   "outputs": [
    {
     "name": "stdout",
     "output_type": "stream",
     "text": [
      "3\n",
      "9\n",
      "15\n",
      "21\n",
      "27\n",
      "33\n",
      "39\n",
      "45\n",
      "51\n",
      "57\n",
      "63\n",
      "69\n",
      "75\n",
      "81\n",
      "87\n",
      "93\n",
      "99\n"
     ]
    }
   ],
   "source": [
    "for i in range (1,100):\n",
    "    if(i%3==0 and i%2!=0):\n",
    "        print(i)"
   ]
  },
  {
   "cell_type": "markdown",
   "id": "2af0eaa9",
   "metadata": {},
   "source": [
    "# Factorial of number\n"
   ]
  },
  {
   "cell_type": "code",
   "execution_count": 13,
   "id": "08a77871",
   "metadata": {},
   "outputs": [
    {
     "name": "stdout",
     "output_type": "stream",
     "text": [
      "120\n"
     ]
    }
   ],
   "source": [
    "fact=1\n",
    "for i in range(1,6):\n",
    "    fact=fact*i\n",
    "print(fact)"
   ]
  },
  {
   "cell_type": "markdown",
   "id": "7ff9d681",
   "metadata": {},
   "source": [
    "# write a code to check the number is multiple of 5 or not"
   ]
  },
  {
   "cell_type": "code",
   "execution_count": 15,
   "id": "20bfd4a7",
   "metadata": {},
   "outputs": [
    {
     "name": "stdout",
     "output_type": "stream",
     "text": [
      "enter a given number23\n",
      "number is not divisible by 5\n"
     ]
    }
   ],
   "source": [
    "\n",
    "n=int(input(\"enter a given number\"))\n",
    "if n%5==0:\n",
    "    print(\"number is divisible by 5\")\n",
    "else:\n",
    "    print(\"number is not divisible by 5\")"
   ]
  },
  {
   "cell_type": "markdown",
   "id": "541481db",
   "metadata": {},
   "source": [
    "# take value from user in between 18-100"
   ]
  },
  {
   "cell_type": "code",
   "execution_count": 17,
   "id": "250928e7",
   "metadata": {},
   "outputs": [
    {
     "name": "stdout",
     "output_type": "stream",
     "text": [
      "enter the value from user:101\n",
      "None\n"
     ]
    }
   ],
   "source": [
    "user=int(input(\"enter the value from user:\"))\n",
    "if (user>=18 and user<=100):\n",
    "     print(\"Not allow this number\")\n",
    "elif(user<18 and user>100):\n",
    "    print(\"Allow this number\")\n",
    "else:\n",
    "    print(\"None\")"
   ]
  },
  {
   "cell_type": "markdown",
   "id": "e0fb1adb",
   "metadata": {},
   "source": [
    "# print first latterof name and surname"
   ]
  },
  {
   "cell_type": "code",
   "execution_count": 21,
   "id": "757a3a4f",
   "metadata": {},
   "outputs": [
    {
     "name": "stdout",
     "output_type": "stream",
     "text": [
      "['M', 'A']\n"
     ]
    }
   ],
   "source": [
    "x='Mayuri Adhav'\n",
    "print([i[0] for i in x.split(\" \")])"
   ]
  },
  {
   "cell_type": "markdown",
   "id": "ac47ce11",
   "metadata": {},
   "source": [
    "# for a given function find out its value in the range(-3,3)"
   ]
  },
  {
   "cell_type": "code",
   "execution_count": 22,
   "id": "1d4bd1a5",
   "metadata": {},
   "outputs": [
    {
     "name": "stdout",
     "output_type": "stream",
     "text": [
      "-7\n",
      "-1\n",
      "-3\n",
      "3\n",
      "1\n",
      "7\n"
     ]
    }
   ],
   "source": [
    "# function=1+x+x^2\n",
    "for i in range(-3,3):\n",
    "    f=1+i+i^2\n",
    "    print(f)"
   ]
  },
  {
   "cell_type": "code",
   "execution_count": null,
   "id": "56536a91",
   "metadata": {},
   "outputs": [],
   "source": []
  }
 ],
 "metadata": {
  "kernelspec": {
   "display_name": "Python 3 (ipykernel)",
   "language": "python",
   "name": "python3"
  },
  "language_info": {
   "codemirror_mode": {
    "name": "ipython",
    "version": 3
   },
   "file_extension": ".py",
   "mimetype": "text/x-python",
   "name": "python",
   "nbconvert_exporter": "python",
   "pygments_lexer": "ipython3",
   "version": "3.9.12"
  }
 },
 "nbformat": 4,
 "nbformat_minor": 5
}
